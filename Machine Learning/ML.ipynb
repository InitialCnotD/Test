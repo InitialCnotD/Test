{
 "cells": [
  {
   "cell_type": "code",
   "execution_count": 1,
   "id": "7576693c-3380-47af-81c1-393e8b3a1945",
   "metadata": {},
   "outputs": [],
   "source": [
    "import pandas as pd"
   ]
  },
  {
   "cell_type": "code",
   "execution_count": 2,
   "id": "0796d4c9-8251-45de-8aa2-a2625b35d76c",
   "metadata": {},
   "outputs": [],
   "source": [
    "# Data ingestion\n",
    "names = [ 'buying','maint','doors','persons','lug_boot','safety','class']\n",
    "data =  pd.read_csv('https://archive.ics.uci.edu/ml/machine-learning-databases/car/car.data', names=names)"
   ]
  },
  {
   "cell_type": "code",
   "execution_count": 3,
   "id": "4fae77ca-7e46-4032-87c3-c899af65fe35",
   "metadata": {},
   "outputs": [
    {
     "name": "stdout",
     "output_type": "stream",
     "text": [
      "<class 'pandas.core.frame.DataFrame'>\n",
      "RangeIndex: 1728 entries, 0 to 1727\n",
      "Data columns (total 7 columns):\n",
      " #   Column    Non-Null Count  Dtype \n",
      "---  ------    --------------  ----- \n",
      " 0   buying    1728 non-null   object\n",
      " 1   maint     1728 non-null   object\n",
      " 2   doors     1728 non-null   object\n",
      " 3   persons   1728 non-null   object\n",
      " 4   lug_boot  1728 non-null   object\n",
      " 5   safety    1728 non-null   object\n",
      " 6   class     1728 non-null   object\n",
      "dtypes: object(7)\n",
      "memory usage: 94.6+ KB\n"
     ]
    }
   ],
   "source": [
    "# check for null\n",
    "data.info()"
   ]
  },
  {
   "cell_type": "code",
   "execution_count": 4,
   "id": "33bbdb74-b8e8-4e2f-98e8-336194979cfb",
   "metadata": {},
   "outputs": [
    {
     "name": "stdout",
     "output_type": "stream",
     "text": [
      "buying ['vhigh' 'high' 'med' 'low']\n",
      "maint ['vhigh' 'high' 'med' 'low']\n",
      "doors ['2' '3' '4' '5more']\n",
      "persons ['2' '4' 'more']\n",
      "lug_boot ['small' 'med' 'big']\n",
      "safety ['low' 'med' 'high']\n",
      "class ['unacc' 'acc' 'vgood' 'good']\n"
     ]
    }
   ],
   "source": [
    "# check values\n",
    "for col in data:\n",
    "    print(col, data[col].unique())"
   ]
  },
  {
   "cell_type": "code",
   "execution_count": 13,
   "id": "1ff30db9-0a34-4e17-85d0-9061d1adea54",
   "metadata": {},
   "outputs": [],
   "source": [
    "ord_var = data[['buying', 'maint', 'lug_boot', 'safety', 'class']]\n",
    "cat_var = data[['doors', 'persons']]"
   ]
  },
  {
   "cell_type": "code",
   "execution_count": 14,
   "id": "2fdd57f0-9e8c-4ec9-b432-bb518f2f817b",
   "metadata": {},
   "outputs": [],
   "source": [
    "ord_var = ord_var.replace({'buying': {'low': 0, 'med': 1, 'high': 2, 'vhigh': 3},\n",
    "                           'maint': {'low': 0, 'med': 1, 'high': 2, 'vhigh': 3},\n",
    "                           'lug_boot': {'small': 0, 'med': 1, 'big': 2},\n",
    "                           'safety': {'low': 0, 'med': 1, 'high': 2},\n",
    "                           'class': {'unacc': 0, 'acc': 1, 'good': 2, 'vgood': 3}})\n",
    "cat_var = pd.get_dummies(cat_var, drop_first = True)\n",
    "df = pd.concat([ord_var, cat_var], axis=1)"
   ]
  },
  {
   "cell_type": "code",
   "execution_count": 15,
   "id": "efe30064-3ccd-4daf-abb6-4e9428556d2f",
   "metadata": {},
   "outputs": [],
   "source": [
    "y = df['buying']\n",
    "x = df.drop('buying', axis = 1)"
   ]
  },
  {
   "cell_type": "code",
   "execution_count": 16,
   "id": "87b5f900-45fc-43a1-9b54-f18034b0de44",
   "metadata": {},
   "outputs": [],
   "source": [
    "from sklearn.model_selection import (\n",
    "    train_test_split,\n",
    "    RandomizedSearchCV,\n",
    "    StratifiedKFold,\n",
    ")\n",
    "from sklearn.ensemble import RandomForestClassifier\n",
    "from sklearn import metrics"
   ]
  },
  {
   "cell_type": "code",
   "execution_count": 17,
   "id": "b324b171-9844-4047-8578-96dd119f5e9a",
   "metadata": {},
   "outputs": [
    {
     "data": {
      "text/plain": [
       "0.27167630057803466"
      ]
     },
     "execution_count": 17,
     "metadata": {},
     "output_type": "execute_result"
    }
   ],
   "source": [
    "x_train, x_test, y_train, y_test = train_test_split(x, y, test_size=0.2, random_state=21)\n",
    "params = [{\"criterion\": (\"gini\", \"entropy\"), \"min_samples_leaf\": (3, 5, 10, 20, 50)}]\n",
    "rfc = RandomForestClassifier(random_state=21)\n",
    "cla = RandomizedSearchCV(\n",
    "    rfc,\n",
    "    param_distributions=params,\n",
    "    n_iter=10,\n",
    "    cv=StratifiedKFold(n_splits=5, shuffle=True, random_state=21)\n",
    ")\n",
    "cla.fit(x_train, y_train)\n",
    "y_pred = cla.predict(x_test)\n",
    "metrics.accuracy_score(y_test, y_pred)"
   ]
  },
  {
   "cell_type": "code",
   "execution_count": 20,
   "id": "08b43265-181e-4df9-8c40-df56134032ae",
   "metadata": {},
   "outputs": [
    {
     "data": {
      "text/plain": [
       "array([0, 0, 0], dtype=int64)"
      ]
     },
     "execution_count": 20,
     "metadata": {},
     "output_type": "execute_result"
    }
   ],
   "source": [
    "# Maintenance = High,  Number of doors = 4, Lug Boot Size = Big, Safety = High Class Value = Good\n",
    "cla.predict([[2, 2, 2, 2, 0, 1, 0, 0, 0],\n",
    "             [2, 2, 2, 2, 0, 1, 0, 1, 0],\n",
    "             [2, 2, 2, 2, 0, 1, 0, 0, 1]])"
   ]
  },
  {
   "cell_type": "markdown",
   "id": "9834de56-aa0a-4a2a-9baa-a4876928dbf4",
   "metadata": {},
   "source": [
    "Based on the prediction, the price of the car is low for the different number of persons"
   ]
  },
  {
   "cell_type": "code",
   "execution_count": null,
   "id": "72cf8546-1d2f-4d15-bfef-316474410667",
   "metadata": {},
   "outputs": [],
   "source": []
  }
 ],
 "metadata": {
  "kernelspec": {
   "display_name": "Python 3",
   "language": "python",
   "name": "python3"
  },
  "language_info": {
   "codemirror_mode": {
    "name": "ipython",
    "version": 3
   },
   "file_extension": ".py",
   "mimetype": "text/x-python",
   "name": "python",
   "nbconvert_exporter": "python",
   "pygments_lexer": "ipython3",
   "version": "3.8.8"
  }
 },
 "nbformat": 4,
 "nbformat_minor": 5
}
