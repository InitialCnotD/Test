{
 "cells": [
  {
   "cell_type": "code",
   "execution_count": 5,
   "id": "49e9da7d-50be-4bb1-9163-8482ca28f55a",
   "metadata": {},
   "outputs": [],
   "source": [
    "import pandas as pd"
   ]
  },
  {
   "cell_type": "code",
   "execution_count": 6,
   "id": "8e087632-c864-4764-8b9b-a7f8d8ccf20d",
   "metadata": {},
   "outputs": [],
   "source": [
    "def process(df):\n",
    "    # drop name null\n",
    "    df = df[df['name'].notna()].copy()\n",
    "    # convert price to numb\n",
    "    df['price'] = pd.to_numeric(df['price'], errors='coerce')\n",
    "    # split name to first and last\n",
    "    df[['first_name', 'last_name']] = df['name'].str.split(' ', 1, expand=True)\n",
    "    # drop name\n",
    "    df = df.drop('name', 1)\n",
    "    # rearrange column\n",
    "    df = df[['first_name', 'last_name', 'price']]\n",
    "    return df\n",
    "\n",
    "def output(df1, df2):\n",
    "    df = df1.append(df2)\n",
    "    return df.to_csv('final.csv', encoding='utf-8', index=False)"
   ]
  },
  {
   "cell_type": "code",
   "execution_count": 7,
   "id": "2a0e76d8-f578-4c48-9113-e50c16711214",
   "metadata": {},
   "outputs": [],
   "source": [
    "ds1 = pd.read_csv('./Data/dataset1.csv')\n",
    "ds2 =  pd.read_csv('./Data/dataset2.csv')"
   ]
  },
  {
   "cell_type": "code",
   "execution_count": 8,
   "id": "683d2af0-aa1d-478c-ae30-63998304523b",
   "metadata": {},
   "outputs": [],
   "source": [
    "ds1 = process(ds1)\n",
    "ds2 = process(ds2)\n",
    "output(ds1, ds2)"
   ]
  }
 ],
 "metadata": {
  "kernelspec": {
   "display_name": "Python 3",
   "language": "python",
   "name": "python3"
  },
  "language_info": {
   "codemirror_mode": {
    "name": "ipython",
    "version": 3
   },
   "file_extension": ".py",
   "mimetype": "text/x-python",
   "name": "python",
   "nbconvert_exporter": "python",
   "pygments_lexer": "ipython3",
   "version": "3.8.8"
  }
 },
 "nbformat": 4,
 "nbformat_minor": 5
}
